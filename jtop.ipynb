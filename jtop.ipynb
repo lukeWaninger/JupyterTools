{
 "cells": [
  {
   "cell_type": "code",
   "execution_count": 1,
   "metadata": {
    "ExecuteTime": {
     "end_time": "2018-06-22T04:47:04.967383Z",
     "start_time": "2018-06-22T04:47:04.318614Z"
    }
   },
   "outputs": [],
   "source": [
    "%config IPCompleter.greedy=True\n",
    "%matplotlib inline\n",
    "\n",
    "from IPython.core.interactiveshell import InteractiveShell\n",
    "from IPython.display import display, clear_output\n",
    "import ipywidgets as widgets\n",
    "import numpy as np\n",
    "\n",
    "import matplotlib.gridspec as gridspec\n",
    "import matplotlib.pyplot as plt\n",
    "import psutil as ps\n",
    "\n",
    "import time\n",
    "import threading\n",
    "\n",
    "InteractiveShell.ast_node_interactivity = 'all'"
   ]
  },
  {
   "cell_type": "code",
   "execution_count": 2,
   "metadata": {
    "ExecuteTime": {
     "end_time": "2018-06-22T04:47:05.481973Z",
     "start_time": "2018-06-22T04:47:04.974609Z"
    },
    "code_folding": [
     13
    ],
    "run_control": {
     "marked": true
    },
    "scrolled": false
   },
   "outputs": [],
   "source": [
    "class JTop(object):\n",
    "    def __init__(self):\n",
    "        self.thread = None\n",
    "    \n",
    "    def __monitor(self, out):\n",
    "        def col(x):\n",
    "            if 0 < x < 75:\n",
    "                return '#142940'\n",
    "            elif 75 <= x < 95:\n",
    "                return '#28537F'\n",
    "            else:\n",
    "                return '#3D7CBF'\n",
    "\n",
    "        def remove_spines_and_ticks(ax):\n",
    "            ax.set_xticks([])\n",
    "            ax.tick_params(axis='both', which='both', length=0)\n",
    "\n",
    "            ax.spines['top'].set_visible(False)\n",
    "            ax.spines['bottom'].set_visible(False)\n",
    "            ax.spines['left'].set_visible(False)\n",
    "        \n",
    "        ln_cpu_freq, len_cpu_perc = [], []\n",
    "        while True:\n",
    "            for i in range(20):\n",
    "                ln_cpu_perc.append(cpu_percent(percpu=True))\n",
    "                ln_cpu_perc = ln_cpu_perc[1:]\n",
    "                time.sleep(.05)\n",
    "            cpu_perc = np.array(ln_cpu_perc).T\n",
    "            cpu_perc = np.mean(cpu_perc, axis=0)\n",
    "            \n",
    "            with out:            \n",
    "                rows = int(np.ceil(len(cpu_perc)/2)) + 1\n",
    "                cols = 2\n",
    "\n",
    "                fig = plt.figure(figsize=(15, 2))\n",
    "                fig.set_tight_layout(True)\n",
    "                gs = gridspec.GridSpec(rows, 2)\n",
    "\n",
    "                i, j = 0, 0\n",
    "                for core, perc in enumerate(cpu_perc, 1):\n",
    "                    ax = plt.subplot(gs[i, j])\n",
    "\n",
    "                    i = (i + 1)%(rows - 1)\n",
    "                    if i == 0:\n",
    "                        j += 1                \n",
    "\n",
    "                    ax.barh(\n",
    "                        y=core,\n",
    "                        width=perc,\n",
    "                        color=col(perc),\n",
    "                        align='center'\n",
    "                    )\n",
    "                    ax.set_ylim([core-.01, core+.01])\n",
    "                    ax.set_xlim([0, 110])\n",
    "\n",
    "                    ax.set_yticklabels([core], fontsize=16)\n",
    "                    ax.set_yticks([core])\n",
    "\n",
    "                    remove_spines_and_ticks(ax)\n",
    "                    ax.annotate(f'{perc}%', xy=(109, core), fontsize=16, horizontalalignment='right')\n",
    "\n",
    "                mem = ps.virtual_memory()\n",
    "\n",
    "                ax = plt.subplot(gs[rows-1, :cols])\n",
    "                ax.barh(\n",
    "                    y=0,\n",
    "                    width=mem.percent,\n",
    "                    color=col(mem.percent),\n",
    "                    align='center'\n",
    "                )\n",
    "\n",
    "                ax.set_yticks([0])\n",
    "                ax.set_yticklabels(['Mem'], fontsize=16)\n",
    "                ax.set_xlim([0, 110])\n",
    "\n",
    "                remove_spines_and_ticks(ax)\n",
    "\n",
    "                ax.annotate(f'{mem.percent}%', xy=(109, 0), fontsize=16, horizontalalignment='right')\n",
    "                ax.tick_params(axis='both', which='both', length=0)\n",
    "\n",
    "                out.append_stdout(print(''))\n",
    "                out.clear_output(wait=True)\n",
    "\n",
    "    def start(self):    \n",
    "        out = widgets.Output(layout={\n",
    "            'height':'150px',\n",
    "            'width':'100%'\n",
    "        })\n",
    "\n",
    "        display(out)\n",
    "\n",
    "        self.thread = threading.Thread(target=self.__monitor, args=(out,))\n",
    "        self.thread.start()\n",
    "\n",
    "        return self\n",
    "    \n",
    "    def stop(self):    \n",
    "        self.thread.join()"
   ]
  },
  {
   "cell_type": "code",
   "execution_count": 3,
   "metadata": {
    "ExecuteTime": {
     "end_time": "2018-06-22T04:47:05.508263Z",
     "start_time": "2018-06-22T04:47:05.485506Z"
    },
    "scrolled": false
   },
   "outputs": [
    {
     "data": {
      "application/vnd.jupyter.widget-view+json": {
       "model_id": "2a253d3af832459ca719ddd9d25ec587",
       "version_major": 2,
       "version_minor": 0
      },
      "text/html": [
       "<p>Failed to display Jupyter Widget of type <code>Output</code>.</p>\n",
       "<p>\n",
       "  If you're reading this message in the Jupyter Notebook or JupyterLab Notebook, it may mean\n",
       "  that the widgets JavaScript is still loading. If this message persists, it\n",
       "  likely means that the widgets JavaScript library is either not installed or\n",
       "  not enabled. See the <a href=\"https://ipywidgets.readthedocs.io/en/stable/user_install.html\">Jupyter\n",
       "  Widgets Documentation</a> for setup instructions.\n",
       "</p>\n",
       "<p>\n",
       "  If you're reading this message in another frontend (for example, a static\n",
       "  rendering on GitHub or <a href=\"https://nbviewer.jupyter.org/\">NBViewer</a>),\n",
       "  it may mean that your frontend doesn't currently support widgets.\n",
       "</p>\n"
      ],
      "text/plain": [
       "Output(layout=Layout(height='150px', width='100%'))"
      ]
     },
     "metadata": {},
     "output_type": "display_data"
    },
    {
     "name": "stderr",
     "output_type": "stream",
     "text": [
      "Exception in thread Thread-4:\n",
      "Traceback (most recent call last):\n",
      "  File \"/home/luke/anaconda3/lib/python3.6/threading.py\", line 916, in _bootstrap_inner\n",
      "    self.run()\n",
      "  File \"/home/luke/anaconda3/lib/python3.6/threading.py\", line 864, in run\n",
      "    self._target(*self._args, **self._kwargs)\n",
      "  File \"<ipython-input-2-794c1675ce42>\", line 25, in __monitor\n",
      "    ln_cpu_perc.append(cpu_percent(percpu=True))\n",
      "UnboundLocalError: local variable 'ln_cpu_perc' referenced before assignment\n",
      "\n"
     ]
    }
   ],
   "source": [
    "jtop = JTop().start()"
   ]
  },
  {
   "cell_type": "code",
   "execution_count": null,
   "metadata": {},
   "outputs": [],
   "source": []
  }
 ],
 "metadata": {
  "kernelspec": {
   "display_name": "Python 3",
   "language": "python",
   "name": "python3"
  },
  "language_info": {
   "codemirror_mode": {
    "name": "ipython",
    "version": 3
   },
   "file_extension": ".py",
   "mimetype": "text/x-python",
   "name": "python",
   "nbconvert_exporter": "python",
   "pygments_lexer": "ipython3",
   "version": "3.6.4"
  },
  "varInspector": {
   "cols": {
    "lenName": 16,
    "lenType": 16,
    "lenVar": 40
   },
   "kernels_config": {
    "python": {
     "delete_cmd_postfix": "",
     "delete_cmd_prefix": "del ",
     "library": "var_list.py",
     "varRefreshCmd": "print(var_dic_list())"
    },
    "r": {
     "delete_cmd_postfix": ") ",
     "delete_cmd_prefix": "rm(",
     "library": "var_list.r",
     "varRefreshCmd": "cat(var_dic_list()) "
    }
   },
   "types_to_exclude": [
    "module",
    "function",
    "builtin_function_or_method",
    "instance",
    "_Feature"
   ],
   "window_display": false
  }
 },
 "nbformat": 4,
 "nbformat_minor": 2
}
